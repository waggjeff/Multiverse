{
 "cells": [
  {
   "cell_type": "markdown",
   "id": "5b548a03",
   "metadata": {
    "id": "5b548a03"
   },
   "source": [
    "# Take home task\n"
   ]
  },
  {
   "cell_type": "code",
   "execution_count": 1,
   "id": "TEj6uuhtdX-2",
   "metadata": {
    "id": "TEj6uuhtdX-2"
   },
   "outputs": [],
   "source": [
    "# JFW: did not run this as I already have the required packages installed\n",
    "#from google.colab import drive"
   ]
  },
  {
   "cell_type": "markdown",
   "id": "a4c0c651",
   "metadata": {
    "id": "a4c0c651"
   },
   "source": [
    "Welcome to your take home task. Congrats on making it to the next stage. This task should take around 20 minutes. There are four stages:\n",
    "* Stage 1: Data Cleaning\n",
    "* Stage 2: Model Buliding\n",
    "* Stage 3: Model Evaluation\n",
    "* Stage 4: Data Visualisation\n",
    "\n",
    "You will be using the titanic dataset to build a simple Logistic Regression Model and then evaluating the performance of your mode. Please make a copy of this notebook. Once you have completed the task submit your Notebook file via the Ashby submission link in the original email. If you incur any issues please contact your talent partner.\n",
    "Good luck and have fun"
   ]
  },
  {
   "cell_type": "markdown",
   "id": "0e4ae98b",
   "metadata": {
    "id": "0e4ae98b"
   },
   "source": [
    "# Stage 1: Data Cleaning"
   ]
  },
  {
   "cell_type": "markdown",
   "id": "6534e133",
   "metadata": {
    "id": "6534e133"
   },
   "source": [
    "* Load the attatched dataset and clean the data\n",
    "* You should drop any duplicates values\n",
    "* You should drop any null values\n",
    "* You should drop PassengerId, Name, SibSp, Ticket, Cabin, Embarked, Sex columns\n",
    "* Below is an example of what your data should look like\n",
    "\n",
    "\n",
    "All relevant libraries have been allready imported for you (please ensure that you have them installed)"
   ]
  },
  {
   "cell_type": "markdown",
   "id": "xAnU9Veugu0_",
   "metadata": {
    "id": "xAnU9Veugu0_"
   },
   "source": [
    "![Screenshot 2023-07-19 143716.png](data:image/png;base64,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)"
   ]
  },
  {
   "cell_type": "code",
   "execution_count": 2,
   "id": "05635b2d",
   "metadata": {
    "id": "05635b2d"
   },
   "outputs": [],
   "source": [
    "import pandas as pd\n",
    "from sklearn.model_selection import train_test_split\n",
    "from sklearn.linear_model import LogisticRegression\n",
    "from sklearn import metrics\n",
    "from sklearn.metrics import classification_report\n",
    "from sklearn.metrics import confusion_matrix, ConfusionMatrixDisplay\n",
    "from sklearn.metrics import roc_curve\n",
    "import matplotlib.pyplot as plt"
   ]
  },
  {
   "cell_type": "code",
   "execution_count": 3,
   "id": "5WbJ7SXxDcrv",
   "metadata": {
    "colab": {
     "base_uri": "https://localhost:8080/"
    },
    "id": "5WbJ7SXxDcrv",
    "outputId": "0d7a9a1d-61c3-445a-ad1d-254d49640574"
   },
   "outputs": [
    {
     "name": "stdout",
     "output_type": "stream",
     "text": [
      "Requirement already satisfied: gdown==v4.6.3 in /Users/j.wagg/opt/anaconda3/lib/python3.8/site-packages (4.6.3)\n",
      "Requirement already satisfied: filelock in /Users/j.wagg/opt/anaconda3/lib/python3.8/site-packages (from gdown==v4.6.3) (3.12.2)\n",
      "Requirement already satisfied: requests[socks] in /Users/j.wagg/opt/anaconda3/lib/python3.8/site-packages (from gdown==v4.6.3) (2.28.2)\n",
      "Requirement already satisfied: six in /Users/j.wagg/opt/anaconda3/lib/python3.8/site-packages (from gdown==v4.6.3) (1.15.0)\n",
      "Requirement already satisfied: tqdm in /Users/j.wagg/opt/anaconda3/lib/python3.8/site-packages (from gdown==v4.6.3) (4.59.0)\n",
      "Requirement already satisfied: beautifulsoup4 in /Users/j.wagg/opt/anaconda3/lib/python3.8/site-packages (from gdown==v4.6.3) (4.11.2)\n",
      "Requirement already satisfied: soupsieve>1.2 in /Users/j.wagg/opt/anaconda3/lib/python3.8/site-packages (from beautifulsoup4->gdown==v4.6.3) (2.2.1)\n",
      "Requirement already satisfied: charset-normalizer<4,>=2 in /Users/j.wagg/opt/anaconda3/lib/python3.8/site-packages (from requests[socks]->gdown==v4.6.3) (3.1.0)\n",
      "Requirement already satisfied: idna<4,>=2.5 in /Users/j.wagg/opt/anaconda3/lib/python3.8/site-packages (from requests[socks]->gdown==v4.6.3) (2.10)\n",
      "Requirement already satisfied: urllib3<1.27,>=1.21.1 in /Users/j.wagg/opt/anaconda3/lib/python3.8/site-packages (from requests[socks]->gdown==v4.6.3) (1.26.15)\n",
      "Requirement already satisfied: certifi>=2017.4.17 in /Users/j.wagg/opt/anaconda3/lib/python3.8/site-packages (from requests[socks]->gdown==v4.6.3) (2020.12.5)\n",
      "Requirement already satisfied: PySocks!=1.5.7,>=1.5.6 in /Users/j.wagg/opt/anaconda3/lib/python3.8/site-packages (from requests[socks]->gdown==v4.6.3) (1.7.1)\n",
      "\u001b[33mDEPRECATION: pyodbc 4.0.0-unsupported has a non-standard version number. pip 24.0 will enforce this behaviour change. A possible replacement is to upgrade to a newer version of pyodbc or contact the author to suggest that they release a version with a conforming version number. Discussion can be found at https://github.com/pypa/pip/issues/12063\u001b[0m\u001b[33m\n",
      "\u001b[0mNote: you may need to restart the kernel to use updated packages.\n"
     ]
    }
   ],
   "source": [
    "pip install gdown==v4.6.3"
   ]
  },
  {
   "cell_type": "code",
   "execution_count": 4,
   "id": "8_2JhBH8RihA",
   "metadata": {
    "colab": {
     "base_uri": "https://localhost:8080/"
    },
    "id": "8_2JhBH8RihA",
    "outputId": "e140a788-7b41-4c9e-9d8a-fc9a9c1b0a68"
   },
   "outputs": [
    {
     "name": "stdout",
     "output_type": "stream",
     "text": [
      "/Users/j.wagg/opt/anaconda3/lib/python3.8/site-packages/gdown/cli.py:121: FutureWarning: Option `--id` was deprecated in version 4.3.1 and will be removed in 5.0. You don't need to pass it anymore to use a file ID.\n",
      "  warnings.warn(\n",
      "Downloading...\n",
      "From: https://drive.google.com/uc?id=1ZdhoVnOZIUs1X5qAja7hKQH-5QwYMmLE\n",
      "To: /Users/j.wagg/Multiverse/titanic.csv\n",
      "100%|███████████████████████████████████████| 60.3k/60.3k [00:00<00:00, 363kB/s]\n"
     ]
    }
   ],
   "source": [
    "# downloading the dataset into /contents/ so it can be used for the exercise\n",
    "# the filepath you can use is /content/titanic.csv to load your dataset\n",
    "!gdown --id \"1ZdhoVnOZIUs1X5qAja7hKQH-5QwYMmLE\""
   ]
  },
  {
   "cell_type": "code",
   "execution_count": 5,
   "id": "c72c8ea5",
   "metadata": {},
   "outputs": [
    {
     "data": {
      "text/html": [
       "<div>\n",
       "<style scoped>\n",
       "    .dataframe tbody tr th:only-of-type {\n",
       "        vertical-align: middle;\n",
       "    }\n",
       "\n",
       "    .dataframe tbody tr th {\n",
       "        vertical-align: top;\n",
       "    }\n",
       "\n",
       "    .dataframe thead th {\n",
       "        text-align: right;\n",
       "    }\n",
       "</style>\n",
       "<table border=\"1\" class=\"dataframe\">\n",
       "  <thead>\n",
       "    <tr style=\"text-align: right;\">\n",
       "      <th></th>\n",
       "      <th>PassengerId</th>\n",
       "      <th>Survived</th>\n",
       "      <th>Pclass</th>\n",
       "      <th>Name</th>\n",
       "      <th>Sex</th>\n",
       "      <th>Age</th>\n",
       "      <th>SibSp</th>\n",
       "      <th>Parch</th>\n",
       "      <th>Ticket</th>\n",
       "      <th>Fare</th>\n",
       "      <th>Cabin</th>\n",
       "      <th>Embarked</th>\n",
       "    </tr>\n",
       "  </thead>\n",
       "  <tbody>\n",
       "    <tr>\n",
       "      <th>0</th>\n",
       "      <td>1</td>\n",
       "      <td>0</td>\n",
       "      <td>3</td>\n",
       "      <td>Braund, Mr. Owen Harris</td>\n",
       "      <td>male</td>\n",
       "      <td>22.0</td>\n",
       "      <td>1</td>\n",
       "      <td>0</td>\n",
       "      <td>A/5 21171</td>\n",
       "      <td>7.2500</td>\n",
       "      <td>NaN</td>\n",
       "      <td>S</td>\n",
       "    </tr>\n",
       "    <tr>\n",
       "      <th>1</th>\n",
       "      <td>2</td>\n",
       "      <td>1</td>\n",
       "      <td>1</td>\n",
       "      <td>Cumings, Mrs. John Bradley (Florence Briggs Th...</td>\n",
       "      <td>female</td>\n",
       "      <td>38.0</td>\n",
       "      <td>1</td>\n",
       "      <td>0</td>\n",
       "      <td>PC 17599</td>\n",
       "      <td>71.2833</td>\n",
       "      <td>C85</td>\n",
       "      <td>C</td>\n",
       "    </tr>\n",
       "    <tr>\n",
       "      <th>2</th>\n",
       "      <td>3</td>\n",
       "      <td>1</td>\n",
       "      <td>3</td>\n",
       "      <td>Heikkinen, Miss. Laina</td>\n",
       "      <td>female</td>\n",
       "      <td>26.0</td>\n",
       "      <td>0</td>\n",
       "      <td>0</td>\n",
       "      <td>STON/O2. 3101282</td>\n",
       "      <td>7.9250</td>\n",
       "      <td>NaN</td>\n",
       "      <td>S</td>\n",
       "    </tr>\n",
       "    <tr>\n",
       "      <th>3</th>\n",
       "      <td>4</td>\n",
       "      <td>1</td>\n",
       "      <td>1</td>\n",
       "      <td>Futrelle, Mrs. Jacques Heath (Lily May Peel)</td>\n",
       "      <td>female</td>\n",
       "      <td>35.0</td>\n",
       "      <td>1</td>\n",
       "      <td>0</td>\n",
       "      <td>113803</td>\n",
       "      <td>53.1000</td>\n",
       "      <td>C123</td>\n",
       "      <td>S</td>\n",
       "    </tr>\n",
       "    <tr>\n",
       "      <th>4</th>\n",
       "      <td>5</td>\n",
       "      <td>0</td>\n",
       "      <td>3</td>\n",
       "      <td>Allen, Mr. William Henry</td>\n",
       "      <td>male</td>\n",
       "      <td>35.0</td>\n",
       "      <td>0</td>\n",
       "      <td>0</td>\n",
       "      <td>373450</td>\n",
       "      <td>8.0500</td>\n",
       "      <td>NaN</td>\n",
       "      <td>S</td>\n",
       "    </tr>\n",
       "  </tbody>\n",
       "</table>\n",
       "</div>"
      ],
      "text/plain": [
       "   PassengerId  Survived  Pclass  \\\n",
       "0            1         0       3   \n",
       "1            2         1       1   \n",
       "2            3         1       3   \n",
       "3            4         1       1   \n",
       "4            5         0       3   \n",
       "\n",
       "                                                Name     Sex   Age  SibSp  \\\n",
       "0                            Braund, Mr. Owen Harris    male  22.0      1   \n",
       "1  Cumings, Mrs. John Bradley (Florence Briggs Th...  female  38.0      1   \n",
       "2                             Heikkinen, Miss. Laina  female  26.0      0   \n",
       "3       Futrelle, Mrs. Jacques Heath (Lily May Peel)  female  35.0      1   \n",
       "4                           Allen, Mr. William Henry    male  35.0      0   \n",
       "\n",
       "   Parch            Ticket     Fare Cabin Embarked  \n",
       "0      0         A/5 21171   7.2500   NaN        S  \n",
       "1      0          PC 17599  71.2833   C85        C  \n",
       "2      0  STON/O2. 3101282   7.9250   NaN        S  \n",
       "3      0            113803  53.1000  C123        S  \n",
       "4      0            373450   8.0500   NaN        S  "
      ]
     },
     "execution_count": 5,
     "metadata": {},
     "output_type": "execute_result"
    }
   ],
   "source": [
    "# read the dataset into a dataframe\n",
    "df_tit = pd.read_csv('titanic.csv')\n",
    "df_tit.head()"
   ]
  },
  {
   "cell_type": "code",
   "execution_count": 6,
   "id": "6e1a098d",
   "metadata": {},
   "outputs": [
    {
     "name": "stdout",
     "output_type": "stream",
     "text": [
      "<class 'pandas.core.frame.DataFrame'>\n",
      "RangeIndex: 891 entries, 0 to 890\n",
      "Data columns (total 12 columns):\n",
      " #   Column       Non-Null Count  Dtype  \n",
      "---  ------       --------------  -----  \n",
      " 0   PassengerId  891 non-null    int64  \n",
      " 1   Survived     891 non-null    int64  \n",
      " 2   Pclass       891 non-null    int64  \n",
      " 3   Name         891 non-null    object \n",
      " 4   Sex          891 non-null    object \n",
      " 5   Age          714 non-null    float64\n",
      " 6   SibSp        891 non-null    int64  \n",
      " 7   Parch        891 non-null    int64  \n",
      " 8   Ticket       891 non-null    object \n",
      " 9   Fare         891 non-null    float64\n",
      " 10  Cabin        204 non-null    object \n",
      " 11  Embarked     889 non-null    object \n",
      "dtypes: float64(2), int64(5), object(5)\n",
      "memory usage: 83.7+ KB\n"
     ]
    }
   ],
   "source": [
    "# print some basic info about the dataframe\n",
    "df_tit.info()"
   ]
  },
  {
   "cell_type": "markdown",
   "id": "65580b0c",
   "metadata": {},
   "source": [
    "The dataset contains 891 rows (entries) and 12 columns. This dataset has been used for Kaggle competitions, and one can find the key on their website. The important model target variable is the Survived column which can either be 0, or 1. We can now check to see whether there are any missing data, or NaNs after we have dropped columns where the PassengerID is duplicated "
   ]
  },
  {
   "cell_type": "code",
   "execution_count": 7,
   "id": "7ecd68e6",
   "metadata": {},
   "outputs": [
    {
     "data": {
      "text/html": [
       "<div>\n",
       "<style scoped>\n",
       "    .dataframe tbody tr th:only-of-type {\n",
       "        vertical-align: middle;\n",
       "    }\n",
       "\n",
       "    .dataframe tbody tr th {\n",
       "        vertical-align: top;\n",
       "    }\n",
       "\n",
       "    .dataframe thead th {\n",
       "        text-align: right;\n",
       "    }\n",
       "</style>\n",
       "<table border=\"1\" class=\"dataframe\">\n",
       "  <thead>\n",
       "    <tr style=\"text-align: right;\">\n",
       "      <th></th>\n",
       "      <th>PassengerId</th>\n",
       "      <th>Survived</th>\n",
       "      <th>Pclass</th>\n",
       "      <th>Name</th>\n",
       "      <th>Sex</th>\n",
       "      <th>Age</th>\n",
       "      <th>SibSp</th>\n",
       "      <th>Parch</th>\n",
       "      <th>Ticket</th>\n",
       "      <th>Fare</th>\n",
       "      <th>Cabin</th>\n",
       "      <th>Embarked</th>\n",
       "    </tr>\n",
       "  </thead>\n",
       "  <tbody>\n",
       "  </tbody>\n",
       "</table>\n",
       "</div>"
      ],
      "text/plain": [
       "Empty DataFrame\n",
       "Columns: [PassengerId, Survived, Pclass, Name, Sex, Age, SibSp, Parch, Ticket, Fare, Cabin, Embarked]\n",
       "Index: []"
      ]
     },
     "execution_count": 7,
     "metadata": {},
     "output_type": "execute_result"
    }
   ],
   "source": [
    "df_tit[df_tit.duplicated(['PassengerId'], keep=False)].copy()"
   ]
  },
  {
   "cell_type": "markdown",
   "id": "bdc699fd",
   "metadata": {},
   "source": [
    "There do not appear to be any duplicate passengers, and results are the same if we check the Name column."
   ]
  },
  {
   "cell_type": "code",
   "execution_count": 8,
   "id": "5a994339",
   "metadata": {},
   "outputs": [
    {
     "data": {
      "text/plain": [
       "PassengerId      0\n",
       "Survived         0\n",
       "Pclass           0\n",
       "Name             0\n",
       "Sex              0\n",
       "Age            177\n",
       "SibSp            0\n",
       "Parch            0\n",
       "Ticket           0\n",
       "Fare             0\n",
       "Cabin          687\n",
       "Embarked         2\n",
       "dtype: int64"
      ]
     },
     "execution_count": 8,
     "metadata": {},
     "output_type": "execute_result"
    }
   ],
   "source": [
    "df_tit.isnull().sum()"
   ]
  },
  {
   "cell_type": "code",
   "execution_count": 9,
   "id": "25fc063b",
   "metadata": {},
   "outputs": [
    {
     "data": {
      "text/plain": [
       "PassengerId      0\n",
       "Survived         0\n",
       "Pclass           0\n",
       "Name             0\n",
       "Sex              0\n",
       "Age            177\n",
       "SibSp            0\n",
       "Parch            0\n",
       "Ticket           0\n",
       "Fare             0\n",
       "Cabin          687\n",
       "Embarked         2\n",
       "dtype: int64"
      ]
     },
     "execution_count": 9,
     "metadata": {},
     "output_type": "execute_result"
    }
   ],
   "source": [
    "df_tit.isna().sum()"
   ]
  },
  {
   "cell_type": "markdown",
   "id": "4560d733",
   "metadata": {},
   "source": [
    "Both the isnull() and isna() functions tell us that the Age, Cabin, and Embarked columns contain missing values. In order to deal with these, we can use the dropna() function to remove all entries that contain missing values. However, this would leave us with less than 200 rows for our model building and analysis. To handle these missing values, we can replace the numerical data with either the mean or median of the column, or the nearest non-zero value. For the missing string values, we can replace these with a new string, such as 'Unknown'. "
   ]
  },
  {
   "cell_type": "code",
   "execution_count": 10,
   "id": "88dbf361",
   "metadata": {},
   "outputs": [
    {
     "data": {
      "text/plain": [
       "PassengerId      0\n",
       "Survived         0\n",
       "Pclass           0\n",
       "Name             0\n",
       "Sex              0\n",
       "Age              0\n",
       "SibSp            0\n",
       "Parch            0\n",
       "Ticket           0\n",
       "Fare             0\n",
       "Cabin          687\n",
       "Embarked         2\n",
       "dtype: int64"
      ]
     },
     "execution_count": 10,
     "metadata": {},
     "output_type": "execute_result"
    }
   ],
   "source": [
    "# We choose to replace all missing numerical values with the mean of the column, in this case Age \n",
    "df_tit_mean = df_tit.copy()\n",
    "df_tit_mean.Age = df_tit_mean['Age'].fillna(df_tit_mean['Age'].mean())\n",
    "df_tit_mean.isna().sum()"
   ]
  },
  {
   "cell_type": "code",
   "execution_count": 11,
   "id": "81a0efe8",
   "metadata": {},
   "outputs": [
    {
     "data": {
      "text/plain": [
       "PassengerId    0\n",
       "Survived       0\n",
       "Pclass         0\n",
       "Name           0\n",
       "Sex            0\n",
       "Age            0\n",
       "SibSp          0\n",
       "Parch          0\n",
       "Ticket         0\n",
       "Fare           0\n",
       "Cabin          0\n",
       "Embarked       0\n",
       "dtype: int64"
      ]
     },
     "execution_count": 11,
     "metadata": {},
     "output_type": "execute_result"
    }
   ],
   "source": [
    "# Now replace the missing string values with 'Unknown'\n",
    "df_tit_nonan = df_tit_mean.copy()\n",
    "string_cols = ['Cabin','Embarked'] \n",
    "df_tit_nonan[string_cols] = df_tit_nonan[string_cols].fillna('Unknown')\n",
    "\n",
    "df_tit_nonan.isna().sum()"
   ]
  },
  {
   "cell_type": "markdown",
   "id": "e4c96562",
   "metadata": {},
   "source": [
    "Now that the NaN values have been replaced, we can check some basic statistics of the dataframe columns. "
   ]
  },
  {
   "cell_type": "code",
   "execution_count": 12,
   "id": "9235c4d6",
   "metadata": {},
   "outputs": [
    {
     "data": {
      "text/html": [
       "<div>\n",
       "<style scoped>\n",
       "    .dataframe tbody tr th:only-of-type {\n",
       "        vertical-align: middle;\n",
       "    }\n",
       "\n",
       "    .dataframe tbody tr th {\n",
       "        vertical-align: top;\n",
       "    }\n",
       "\n",
       "    .dataframe thead th {\n",
       "        text-align: right;\n",
       "    }\n",
       "</style>\n",
       "<table border=\"1\" class=\"dataframe\">\n",
       "  <thead>\n",
       "    <tr style=\"text-align: right;\">\n",
       "      <th></th>\n",
       "      <th>PassengerId</th>\n",
       "      <th>Survived</th>\n",
       "      <th>Pclass</th>\n",
       "      <th>Age</th>\n",
       "      <th>SibSp</th>\n",
       "      <th>Parch</th>\n",
       "      <th>Fare</th>\n",
       "    </tr>\n",
       "  </thead>\n",
       "  <tbody>\n",
       "    <tr>\n",
       "      <th>count</th>\n",
       "      <td>891.000000</td>\n",
       "      <td>891.000000</td>\n",
       "      <td>891.000000</td>\n",
       "      <td>891.000000</td>\n",
       "      <td>891.000000</td>\n",
       "      <td>891.000000</td>\n",
       "      <td>891.000000</td>\n",
       "    </tr>\n",
       "    <tr>\n",
       "      <th>mean</th>\n",
       "      <td>446.000000</td>\n",
       "      <td>0.383838</td>\n",
       "      <td>2.308642</td>\n",
       "      <td>29.699118</td>\n",
       "      <td>0.523008</td>\n",
       "      <td>0.381594</td>\n",
       "      <td>32.204208</td>\n",
       "    </tr>\n",
       "    <tr>\n",
       "      <th>std</th>\n",
       "      <td>257.353842</td>\n",
       "      <td>0.486592</td>\n",
       "      <td>0.836071</td>\n",
       "      <td>13.002015</td>\n",
       "      <td>1.102743</td>\n",
       "      <td>0.806057</td>\n",
       "      <td>49.693429</td>\n",
       "    </tr>\n",
       "    <tr>\n",
       "      <th>min</th>\n",
       "      <td>1.000000</td>\n",
       "      <td>0.000000</td>\n",
       "      <td>1.000000</td>\n",
       "      <td>0.420000</td>\n",
       "      <td>0.000000</td>\n",
       "      <td>0.000000</td>\n",
       "      <td>0.000000</td>\n",
       "    </tr>\n",
       "    <tr>\n",
       "      <th>25%</th>\n",
       "      <td>223.500000</td>\n",
       "      <td>0.000000</td>\n",
       "      <td>2.000000</td>\n",
       "      <td>22.000000</td>\n",
       "      <td>0.000000</td>\n",
       "      <td>0.000000</td>\n",
       "      <td>7.910400</td>\n",
       "    </tr>\n",
       "    <tr>\n",
       "      <th>50%</th>\n",
       "      <td>446.000000</td>\n",
       "      <td>0.000000</td>\n",
       "      <td>3.000000</td>\n",
       "      <td>29.699118</td>\n",
       "      <td>0.000000</td>\n",
       "      <td>0.000000</td>\n",
       "      <td>14.454200</td>\n",
       "    </tr>\n",
       "    <tr>\n",
       "      <th>75%</th>\n",
       "      <td>668.500000</td>\n",
       "      <td>1.000000</td>\n",
       "      <td>3.000000</td>\n",
       "      <td>35.000000</td>\n",
       "      <td>1.000000</td>\n",
       "      <td>0.000000</td>\n",
       "      <td>31.000000</td>\n",
       "    </tr>\n",
       "    <tr>\n",
       "      <th>max</th>\n",
       "      <td>891.000000</td>\n",
       "      <td>1.000000</td>\n",
       "      <td>3.000000</td>\n",
       "      <td>80.000000</td>\n",
       "      <td>8.000000</td>\n",
       "      <td>6.000000</td>\n",
       "      <td>512.329200</td>\n",
       "    </tr>\n",
       "  </tbody>\n",
       "</table>\n",
       "</div>"
      ],
      "text/plain": [
       "       PassengerId    Survived      Pclass         Age       SibSp  \\\n",
       "count   891.000000  891.000000  891.000000  891.000000  891.000000   \n",
       "mean    446.000000    0.383838    2.308642   29.699118    0.523008   \n",
       "std     257.353842    0.486592    0.836071   13.002015    1.102743   \n",
       "min       1.000000    0.000000    1.000000    0.420000    0.000000   \n",
       "25%     223.500000    0.000000    2.000000   22.000000    0.000000   \n",
       "50%     446.000000    0.000000    3.000000   29.699118    0.000000   \n",
       "75%     668.500000    1.000000    3.000000   35.000000    1.000000   \n",
       "max     891.000000    1.000000    3.000000   80.000000    8.000000   \n",
       "\n",
       "            Parch        Fare  \n",
       "count  891.000000  891.000000  \n",
       "mean     0.381594   32.204208  \n",
       "std      0.806057   49.693429  \n",
       "min      0.000000    0.000000  \n",
       "25%      0.000000    7.910400  \n",
       "50%      0.000000   14.454200  \n",
       "75%      0.000000   31.000000  \n",
       "max      6.000000  512.329200  "
      ]
     },
     "execution_count": 12,
     "metadata": {},
     "output_type": "execute_result"
    }
   ],
   "source": [
    "df_tit_nonan.describe()"
   ]
  },
  {
   "cell_type": "code",
   "execution_count": 13,
   "id": "7d4aa40b",
   "metadata": {},
   "outputs": [
    {
     "data": {
      "text/html": [
       "<div>\n",
       "<style scoped>\n",
       "    .dataframe tbody tr th:only-of-type {\n",
       "        vertical-align: middle;\n",
       "    }\n",
       "\n",
       "    .dataframe tbody tr th {\n",
       "        vertical-align: top;\n",
       "    }\n",
       "\n",
       "    .dataframe thead th {\n",
       "        text-align: right;\n",
       "    }\n",
       "</style>\n",
       "<table border=\"1\" class=\"dataframe\">\n",
       "  <thead>\n",
       "    <tr style=\"text-align: right;\">\n",
       "      <th></th>\n",
       "      <th>Age</th>\n",
       "    </tr>\n",
       "    <tr>\n",
       "      <th>Sex</th>\n",
       "      <th></th>\n",
       "    </tr>\n",
       "  </thead>\n",
       "  <tbody>\n",
       "    <tr>\n",
       "      <th>female</th>\n",
       "      <td>28.216730</td>\n",
       "    </tr>\n",
       "    <tr>\n",
       "      <th>male</th>\n",
       "      <td>30.505824</td>\n",
       "    </tr>\n",
       "  </tbody>\n",
       "</table>\n",
       "</div>"
      ],
      "text/plain": [
       "              Age\n",
       "Sex              \n",
       "female  28.216730\n",
       "male    30.505824"
      ]
     },
     "execution_count": 13,
     "metadata": {},
     "output_type": "execute_result"
    }
   ],
   "source": [
    "df_tit_nonan[['Sex','Age']].groupby('Sex').mean()"
   ]
  },
  {
   "cell_type": "markdown",
   "id": "6ebd6200",
   "metadata": {},
   "source": [
    "Lets make some basic plots to check the survival rates and their dependance on various factors, like sex, the number of parents/children (parch), Age, ticket class (Pclass) and fare. "
   ]
  },
  {
   "cell_type": "code",
   "execution_count": 14,
   "id": "9220eb6e",
   "metadata": {},
   "outputs": [
    {
     "data": {
      "text/plain": [
       "Text(0.5, 1.0, 'Number of survivors by gender')"
      ]
     },
     "execution_count": 14,
     "metadata": {},
     "output_type": "execute_result"
    },
    {
     "data": {
      "image/png": "[encoded data removed]",
      "text/plain": [
       "<Figure size 432x288 with 1 Axes>"
      ]
     },
     "metadata": {
      "needs_background": "light"
     },
     "output_type": "display_data"
    }
   ],
   "source": [
    "surv_sex_cts = df_tit_nonan.groupby(['Sex','Survived']).size().unstack() # count number of survivors by sex\n",
    "\n",
    "# create the bar chart, set labels and title\n",
    "ax = surv_sex_cts.plot(kind='bar', stacked=True)\n",
    "ax.set_xlabel('Gender',fontsize=18)\n",
    "ax.set_ylabel('Count',fontsize=18)\n",
    "ax.set_title('Number of survivors by gender',fontsize=18)"
   ]
  },
  {
   "cell_type": "code",
   "execution_count": 15,
   "id": "4f5de90c",
   "metadata": {},
   "outputs": [
    {
     "data": {
      "text/plain": [
       "Text(0.5, 1.0, 'Number of survivors by number of parents/children onboard')"
      ]
     },
     "execution_count": 15,
     "metadata": {},
     "output_type": "execute_result"
    },
    {
     "data": {
      "image/png": "[encoded data removed]",
      "text/plain": [
       "<Figure size 432x288 with 1 Axes>"
      ]
     },
     "metadata": {
      "needs_background": "light"
     },
     "output_type": "display_data"
    }
   ],
   "source": [
    "surv_parch_cts = df_tit_nonan.groupby(['Parch','Survived']).size().unstack() # count number of survivors by sex\n",
    "\n",
    "# create the bar chart, set labels and title\n",
    "ax = surv_parch_cts.plot(kind='bar', stacked=True)\n",
    "ax.set_xlabel('Parch',fontsize=18)\n",
    "ax.set_ylabel('Count',fontsize=18)\n",
    "ax.set_title('Number of survivors by number of parents/children onboard',fontsize=18)"
   ]
  },
  {
   "cell_type": "code",
   "execution_count": 16,
   "id": "a65f06fa",
   "metadata": {},
   "outputs": [
    {
     "data": {
      "text/plain": [
       "Text(0.5, 1.0, 'Number of survivors in each class')"
      ]
     },
     "execution_count": 16,
     "metadata": {},
     "output_type": "execute_result"
    },
    {
     "data": {
      "image/png": "[encoded data removed]",
      "text/plain": [
       "<Figure size 432x288 with 1 Axes>"
      ]
     },
     "metadata": {
      "needs_background": "light"
     },
     "output_type": "display_data"
    }
   ],
   "source": [
    "surv_pclass_cts = df_tit_nonan.groupby(['Pclass','Survived']).size().unstack() # count number of survivors by sex\n",
    "\n",
    "# create the bar chart, set labels and title\n",
    "ax = surv_pclass_cts.plot(kind='bar', stacked=True)\n",
    "ax.set_xlabel('Class',fontsize=18)\n",
    "ax.set_ylabel('Count',fontsize=18)\n",
    "ax.set_title('Number of survivors in each class',fontsize=18)"
   ]
  },
  {
   "cell_type": "code",
   "execution_count": 17,
   "id": "6b9daea0",
   "metadata": {},
   "outputs": [
    {
     "data": {
      "image/png": "[encoded data removed]",
      "text/plain": [
       "<Figure size 432x288 with 1 Axes>"
      ]
     },
     "metadata": {
      "needs_background": "light"
     },
     "output_type": "display_data"
    }
   ],
   "source": [
    "# create a histogram of the fares using matplotlib\n",
    "plt.hist(df_tit_nonan.Fare, bins=50)\n",
    "\n",
    "plt.xlabel('Fare', fontsize=18)\n",
    "plt.ylabel('Frequency', fontsize=18)\n",
    "plt.title('Distribution of fares',fontsize=18)\n",
    "\n",
    "plt.show()"
   ]
  },
  {
   "cell_type": "code",
   "execution_count": 18,
   "id": "2d34cb4f",
   "metadata": {},
   "outputs": [
    {
     "data": {
      "image/png": "[encoded data removed]",
      "text/plain": [
       "<Figure size 432x288 with 1 Axes>"
      ]
     },
     "metadata": {
      "needs_background": "light"
     },
     "output_type": "display_data"
    }
   ],
   "source": [
    "# create a histogram of the fares using matplotlib\n",
    "plt.hist(df_tit_nonan.Age, bins=50)\n",
    "\n",
    "plt.xlabel('Age', fontsize=18)\n",
    "plt.ylabel('Frequency', fontsize=18)\n",
    "plt.title('Distribution of ages',fontsize=18)\n",
    "\n",
    "plt.show()"
   ]
  },
  {
   "cell_type": "markdown",
   "id": "6ba8e486",
   "metadata": {},
   "source": [
    "Only potential bias observed in the data, which could impact our models, is the use of the mean age to replace all of the missing values in the age column. Finally, before the modelling we will drop the PassengerId, Name, SibSp, Ticket, Cabin, Embarked, and Sex columns. "
   ]
  },
  {
   "cell_type": "code",
   "execution_count": 19,
   "id": "31859104",
   "metadata": {},
   "outputs": [
    {
     "data": {
      "text/html": [
       "<div>\n",
       "<style scoped>\n",
       "    .dataframe tbody tr th:only-of-type {\n",
       "        vertical-align: middle;\n",
       "    }\n",
       "\n",
       "    .dataframe tbody tr th {\n",
       "        vertical-align: top;\n",
       "    }\n",
       "\n",
       "    .dataframe thead th {\n",
       "        text-align: right;\n",
       "    }\n",
       "</style>\n",
       "<table border=\"1\" class=\"dataframe\">\n",
       "  <thead>\n",
       "    <tr style=\"text-align: right;\">\n",
       "      <th></th>\n",
       "      <th>Survived</th>\n",
       "      <th>Pclass</th>\n",
       "      <th>Age</th>\n",
       "      <th>Parch</th>\n",
       "      <th>Fare</th>\n",
       "    </tr>\n",
       "  </thead>\n",
       "  <tbody>\n",
       "    <tr>\n",
       "      <th>0</th>\n",
       "      <td>0</td>\n",
       "      <td>3</td>\n",
       "      <td>22.0</td>\n",
       "      <td>0</td>\n",
       "      <td>7.2500</td>\n",
       "    </tr>\n",
       "    <tr>\n",
       "      <th>1</th>\n",
       "      <td>1</td>\n",
       "      <td>1</td>\n",
       "      <td>38.0</td>\n",
       "      <td>0</td>\n",
       "      <td>71.2833</td>\n",
       "    </tr>\n",
       "    <tr>\n",
       "      <th>2</th>\n",
       "      <td>1</td>\n",
       "      <td>3</td>\n",
       "      <td>26.0</td>\n",
       "      <td>0</td>\n",
       "      <td>7.9250</td>\n",
       "    </tr>\n",
       "    <tr>\n",
       "      <th>3</th>\n",
       "      <td>1</td>\n",
       "      <td>1</td>\n",
       "      <td>35.0</td>\n",
       "      <td>0</td>\n",
       "      <td>53.1000</td>\n",
       "    </tr>\n",
       "    <tr>\n",
       "      <th>4</th>\n",
       "      <td>0</td>\n",
       "      <td>3</td>\n",
       "      <td>35.0</td>\n",
       "      <td>0</td>\n",
       "      <td>8.0500</td>\n",
       "    </tr>\n",
       "  </tbody>\n",
       "</table>\n",
       "</div>"
      ],
      "text/plain": [
       "   Survived  Pclass   Age  Parch     Fare\n",
       "0         0       3  22.0      0   7.2500\n",
       "1         1       1  38.0      0  71.2833\n",
       "2         1       3  26.0      0   7.9250\n",
       "3         1       1  35.0      0  53.1000\n",
       "4         0       3  35.0      0   8.0500"
      ]
     },
     "execution_count": 19,
     "metadata": {},
     "output_type": "execute_result"
    }
   ],
   "source": [
    "df_tit_drop = df_tit_nonan.drop(['PassengerId', 'Name', 'SibSp', 'Ticket', 'Cabin', 'Embarked', 'Sex'], axis=1)\n",
    "\n",
    "df_tit_drop.head()"
   ]
  },
  {
   "cell_type": "markdown",
   "id": "6dfd36a4",
   "metadata": {
    "id": "6dfd36a4"
   },
   "source": [
    "# Stage 2: Model Building"
   ]
  },
  {
   "cell_type": "markdown",
   "id": "43eb72c0",
   "metadata": {
    "id": "43eb72c0"
   },
   "source": [
    "* You will now build a simple Logistic Regression model using the sklearn library\n",
    "* You should use the following columns as your features Pclass, Age, Parch, Fare for your X values\n",
    "* The Y value should be the survived column\n"
   ]
  },
  {
   "cell_type": "code",
   "execution_count": 20,
   "id": "c8d5b421",
   "metadata": {
    "id": "c8d5b421"
   },
   "outputs": [],
   "source": [
    "# Start by defining the columns that will be used as model features (X) and the target data (y)\n",
    "features = ['Pclass', 'Age', 'Parch', 'Fare']\n",
    "\n",
    "X = df_tit_drop[features]\n",
    "y = df_tit_drop.Survived"
   ]
  },
  {
   "cell_type": "code",
   "execution_count": 21,
   "id": "027ae3b6",
   "metadata": {
    "id": "027ae3b6"
   },
   "outputs": [],
   "source": [
    "# Now we want to split the data to create training (80%) and testing (20%) datasets \n",
    "X_train, X_test, y_train, y_test=train_test_split(X,y,test_size=0.2,random_state=42) "
   ]
  },
  {
   "cell_type": "code",
   "execution_count": 22,
   "id": "b81f17ba",
   "metadata": {
    "id": "b81f17ba"
   },
   "outputs": [
    {
     "data": {
      "text/html": [
       "<style>#sk-container-id-1 {color: black;background-color: white;}#sk-container-id-1 pre{padding: 0;}#sk-container-id-1 div.sk-toggleable {background-color: white;}#sk-container-id-1 label.sk-toggleable__label {cursor: pointer;display: block;width: 100%;margin-bottom: 0;padding: 0.3em;box-sizing: border-box;text-align: center;}#sk-container-id-1 label.sk-toggleable__label-arrow:before {content: \"▸\";float: left;margin-right: 0.25em;color: #696969;}#sk-container-id-1 label.sk-toggleable__label-arrow:hover:before {color: black;}#sk-container-id-1 div.sk-estimator:hover label.sk-toggleable__label-arrow:before {color: black;}#sk-container-id-1 div.sk-toggleable__content {max-height: 0;max-width: 0;overflow: hidden;text-align: left;background-color: #f0f8ff;}#sk-container-id-1 div.sk-toggleable__content pre {margin: 0.2em;color: black;border-radius: 0.25em;background-color: #f0f8ff;}#sk-container-id-1 input.sk-toggleable__control:checked~div.sk-toggleable__content {max-height: 200px;max-width: 100%;overflow: auto;}#sk-container-id-1 input.sk-toggleable__control:checked~label.sk-toggleable__label-arrow:before {content: \"▾\";}#sk-container-id-1 div.sk-estimator input.sk-toggleable__control:checked~label.sk-toggleable__label {background-color: #d4ebff;}#sk-container-id-1 div.sk-label input.sk-toggleable__control:checked~label.sk-toggleable__label {background-color: #d4ebff;}#sk-container-id-1 input.sk-hidden--visually {border: 0;clip: rect(1px 1px 1px 1px);clip: rect(1px, 1px, 1px, 1px);height: 1px;margin: -1px;overflow: hidden;padding: 0;position: absolute;width: 1px;}#sk-container-id-1 div.sk-estimator {font-family: monospace;background-color: #f0f8ff;border: 1px dotted black;border-radius: 0.25em;box-sizing: border-box;margin-bottom: 0.5em;}#sk-container-id-1 div.sk-estimator:hover {background-color: #d4ebff;}#sk-container-id-1 div.sk-parallel-item::after {content: \"\";width: 100%;border-bottom: 1px solid gray;flex-grow: 1;}#sk-container-id-1 div.sk-label:hover label.sk-toggleable__label {background-color: #d4ebff;}#sk-container-id-1 div.sk-serial::before {content: \"\";position: absolute;border-left: 1px solid gray;box-sizing: border-box;top: 0;bottom: 0;left: 50%;z-index: 0;}#sk-container-id-1 div.sk-serial {display: flex;flex-direction: column;align-items: center;background-color: white;padding-right: 0.2em;padding-left: 0.2em;position: relative;}#sk-container-id-1 div.sk-item {position: relative;z-index: 1;}#sk-container-id-1 div.sk-parallel {display: flex;align-items: stretch;justify-content: center;background-color: white;position: relative;}#sk-container-id-1 div.sk-item::before, #sk-container-id-1 div.sk-parallel-item::before {content: \"\";position: absolute;border-left: 1px solid gray;box-sizing: border-box;top: 0;bottom: 0;left: 50%;z-index: -1;}#sk-container-id-1 div.sk-parallel-item {display: flex;flex-direction: column;z-index: 1;position: relative;background-color: white;}#sk-container-id-1 div.sk-parallel-item:first-child::after {align-self: flex-end;width: 50%;}#sk-container-id-1 div.sk-parallel-item:last-child::after {align-self: flex-start;width: 50%;}#sk-container-id-1 div.sk-parallel-item:only-child::after {width: 0;}#sk-container-id-1 div.sk-dashed-wrapped {border: 1px dashed gray;margin: 0 0.4em 0.5em 0.4em;box-sizing: border-box;padding-bottom: 0.4em;background-color: white;}#sk-container-id-1 div.sk-label label {font-family: monospace;font-weight: bold;display: inline-block;line-height: 1.2em;}#sk-container-id-1 div.sk-label-container {text-align: center;}#sk-container-id-1 div.sk-container {/* jupyter's `normalize.less` sets `[hidden] { display: none; }` but bootstrap.min.css set `[hidden] { display: none !important; }` so we also need the `!important` here to be able to override the default hidden behavior on the sphinx rendered scikit-learn.org. See: https://github.com/scikit-learn/scikit-learn/issues/21755 */display: inline-block !important;position: relative;}#sk-container-id-1 div.sk-text-repr-fallback {display: none;}</style><div id=\"sk-container-id-1\" class=\"sk-top-container\"><div class=\"sk-text-repr-fallback\"><pre>LogisticRegression(solver=&#x27;liblinear&#x27;)</pre><b>In a Jupyter environment, please rerun this cell to show the HTML representation or trust the notebook. <br />On GitHub, the HTML representation is unable to render, please try loading this page with nbviewer.org.</b></div><div class=\"sk-container\" hidden><div class=\"sk-item\"><div class=\"sk-estimator sk-toggleable\"><input class=\"sk-toggleable__control sk-hidden--visually\" id=\"sk-estimator-id-1\" type=\"checkbox\" checked><label for=\"sk-estimator-id-1\" class=\"sk-toggleable__label sk-toggleable__label-arrow\">LogisticRegression</label><div class=\"sk-toggleable__content\"><pre>LogisticRegression(solver=&#x27;liblinear&#x27;)</pre></div></div></div></div></div>"
      ],
      "text/plain": [
       "LogisticRegression(solver='liblinear')"
      ]
     },
     "execution_count": 22,
     "metadata": {},
     "output_type": "execute_result"
    }
   ],
   "source": [
    "# now initilize and train the modelby fitting to the data\n",
    "model_logreg =  LogisticRegression(solver='liblinear') \n",
    "\n",
    "model_logreg.fit(X_train,y_train)"
   ]
  },
  {
   "cell_type": "markdown",
   "id": "b4deebfe",
   "metadata": {
    "id": "b4deebfe"
   },
   "source": [
    "# Stage 3: Model Evaluation"
   ]
  },
  {
   "cell_type": "markdown",
   "id": "f4a46395",
   "metadata": {
    "id": "f4a46395"
   },
   "source": [
    "* Check the score of your model for the train values\n",
    "* Check the score of your model for the test values\n",
    "* Produce a classification report for your y values\n",
    "\n"
   ]
  },
  {
   "cell_type": "code",
   "execution_count": 23,
   "id": "0e00ff57",
   "metadata": {
    "id": "0e00ff57"
   },
   "outputs": [],
   "source": [
    "# beging my making predictions for survival (target) for the input test data\n",
    "y_pred = model_logreg.predict(X_test) "
   ]
  },
  {
   "cell_type": "code",
   "execution_count": 24,
   "id": "e5f294bd",
   "metadata": {
    "id": "e5f294bd"
   },
   "outputs": [
    {
     "name": "stdout",
     "output_type": "stream",
     "text": [
      "Accuracy:  0.7374301675977654\n",
      "Precision:  0.7647058823529411\n",
      "Recall:  0.527027027027027\n"
     ]
    }
   ],
   "source": [
    "# Now calculate the accuracy, precision, and recall of the model\n",
    "print(\"Accuracy: \",metrics.accuracy_score(y_test, y_pred)) \n",
    "print(\"Precision: \",metrics.precision_score(y_test, y_pred)) \n",
    "print(\"Recall: \",metrics.recall_score(y_test, y_pred)) "
   ]
  },
  {
   "cell_type": "code",
   "execution_count": 25,
   "id": "e4eb79fe",
   "metadata": {
    "id": "e4eb79fe"
   },
   "outputs": [
    {
     "name": "stdout",
     "output_type": "stream",
     "text": [
      "              precision    recall  f1-score   support\n",
      "\n",
      "        Died       0.73      0.89      0.80       105\n",
      "    Survived       0.76      0.53      0.62        74\n",
      "\n",
      "    accuracy                           0.74       179\n",
      "   macro avg       0.75      0.71      0.71       179\n",
      "weighted avg       0.74      0.74      0.73       179\n",
      "\n"
     ]
    }
   ],
   "source": [
    "# Now generate the classification report \n",
    "print(classification_report(y_test, y_pred, target_names=['Died','Survived']))"
   ]
  },
  {
   "cell_type": "markdown",
   "id": "3d6352f5",
   "metadata": {
    "id": "3d6352f5"
   },
   "source": [
    "# Stage 4: Data Visualisation"
   ]
  },
  {
   "cell_type": "markdown",
   "id": "cf9f4e64",
   "metadata": {
    "id": "cf9f4e64"
   },
   "source": [
    "* Produce a confusion matrix for your model\n",
    "* Plot a ROC curve for your model\n"
   ]
  },
  {
   "cell_type": "code",
   "execution_count": 26,
   "id": "e13defdb",
   "metadata": {
    "id": "e13defdb"
   },
   "outputs": [
    {
     "data": {
      "image/png": "[encoded data removed]",
      "text/plain": [
       "<Figure size 432x288 with 2 Axes>"
      ]
     },
     "metadata": {
      "needs_background": "light"
     },
     "output_type": "display_data"
    }
   ],
   "source": [
    "# now plot the confusion matrix\n",
    "target_classes = ['Died', 'Survived']\n",
    "\n",
    "conf_mat = confusion_matrix(y_test, y_pred)\n",
    "disp = ConfusionMatrixDisplay(confusion_matrix = conf_mat, display_labels = target_classes)\n",
    "disp.plot()\n",
    "plt.show()"
   ]
  },
  {
   "cell_type": "code",
   "execution_count": 27,
   "id": "b0866bad",
   "metadata": {
    "id": "b0866bad"
   },
   "outputs": [
    {
     "data": {
      "image/png": "[encoded data removed]",
      "text/plain": [
       "<Figure size 432x288 with 1 Axes>"
      ]
     },
     "metadata": {
      "needs_background": "light"
     },
     "output_type": "display_data"
    }
   ],
   "source": [
    "# Finally, plot the ROC curve for Survival probability\n",
    "y_probab = model_logreg.predict_proba(X_test)[::,1]# predicted probabilities \n",
    "falseposrate, trueposrate, _ = roc_curve(y_test,  y_probab)\n",
    "plt.plot(falseposrate, trueposrate)\n",
    "plt.ylabel('True Survival Rate')\n",
    "plt.xlabel('False Survival Rate')\n",
    "plt.show()"
   ]
  },
  {
   "cell_type": "markdown",
   "id": "3de45765",
   "metadata": {
    "id": "fd5be486"
   },
   "source": [
    "We can see that the model generally performs well when trying to predict the probability of death, but does not perform as well when predicting chance of survival. "
   ]
  },
  {
   "cell_type": "code",
   "execution_count": null,
   "id": "f5683811",
   "metadata": {
    "id": "f5683811"
   },
   "outputs": [],
   "source": []
  },
  {
   "cell_type": "code",
   "execution_count": null,
   "id": "0ef032d4",
   "metadata": {},
   "outputs": [],
   "source": []
  }
 ],
 "metadata": {
  "colab": {
   "provenance": []
  },
  "kernelspec": {
   "display_name": "Python 3",
   "language": "python",
   "name": "python3"
  },
  "language_info": {
   "codemirror_mode": {
    "name": "ipython",
    "version": 3
   },
   "file_extension": ".py",
   "mimetype": "text/x-python",
   "name": "python",
   "nbconvert_exporter": "python",
   "pygments_lexer": "ipython3",
   "version": "3.8.8"
  }
 },
 "nbformat": 4,
 "nbformat_minor": 5
}
